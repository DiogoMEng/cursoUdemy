{
 "cells": [
  {
   "cell_type": "code",
   "execution_count": 3,
   "metadata": {},
   "outputs": [
    {
     "name": "stdout",
     "output_type": "stream",
     "text": [
      "meu nome é Diogo\n"
     ]
    },
    {
     "data": {
      "text/plain": [
       "' 42572654 yes num 49.68%'"
      ]
     },
     "execution_count": 3,
     "metadata": {},
     "output_type": "execute_result"
    }
   ],
   "source": [
    "arquivo = open('file.txt', 'w') # abre arquivo em modo de escrita\n",
    "arquivo.write(\"Olá mundo\") # escreve string em arquivo\n",
    "arquivo.close() # fechando o arquivo\n",
    "\n",
    "\n",
    "nome = 'Diogo'\n",
    "\n",
    "print(f\"meu nome é {nome}\")\n",
    "\n",
    "num = 42_572_654\n",
    "num2 = 43_123_495\n",
    "\n",
    "porcente = num / (num + num2)\n",
    "\n",
    "'{:-9} yes num {:2.2%}'.format(num, porcente)"
   ]
  }
 ],
 "metadata": {
  "kernelspec": {
   "display_name": "Python 3",
   "language": "python",
   "name": "python3"
  },
  "language_info": {
   "codemirror_mode": {
    "name": "ipython",
    "version": 3
   },
   "file_extension": ".py",
   "mimetype": "text/x-python",
   "name": "python",
   "nbconvert_exporter": "python",
   "pygments_lexer": "ipython3",
   "version": "3.11.4"
  },
  "orig_nbformat": 4
 },
 "nbformat": 4,
 "nbformat_minor": 2
}
