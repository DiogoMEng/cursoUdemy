{
 "cells": [
  {
   "cell_type": "markdown",
   "metadata": {},
   "source": [
    "#### RANGE"
   ]
  },
  {
   "cell_type": "code",
   "execution_count": 1,
   "metadata": {},
   "outputs": [
    {
     "name": "stdout",
     "output_type": "stream",
     "text": [
      "(0, 'Diogo')\n",
      "(1, 'Stephany')\n",
      "(2, 'Carol')\n",
      "(3, 'Tatiana')\n",
      "(4, 'Cristian')\n",
      "(5, 'Geovana')\n",
      "Essa são todas as pessoas presentes dentro do array\n"
     ]
    }
   ],
   "source": [
    "arr = ['Diogo', 'Stephany', 'Carol', 'Tatiana', 'Cristian', 'Geovana']\n",
    "\n",
    "for i in (enumerate(arr)):\n",
    "    print(i)\n",
    "else:\n",
    "    print('Essa são todas as pessoas presentes dentro do array')"
   ]
  },
  {
   "cell_type": "markdown",
   "metadata": {},
   "source": [
    "#### BREAK, CONTINUE E ELSE"
   ]
  },
  {
   "cell_type": "code",
   "execution_count": 2,
   "metadata": {},
   "outputs": [
    {
     "name": "stdout",
     "output_type": "stream",
     "text": [
      "Essa são todas as pessoas presentes dentro do array\n"
     ]
    }
   ],
   "source": [
    "arr = ['Diogo', 'Stephany', 'Carol', 'Tatiana', 'Cristian', 'Geovana']\n",
    "for i in (enumerate(arr)):\n",
    "    pass\n",
    "else:\n",
    "    print('Essa são todas as pessoas presentes dentro do array')"
   ]
  },
  {
   "cell_type": "markdown",
   "metadata": {},
   "source": [
    "#### MATCH"
   ]
  },
  {
   "cell_type": "code",
   "execution_count": null,
   "metadata": {},
   "outputs": [],
   "source": [
    "(x, y) = (0, 1)\n",
    "\n",
    "point = (x, y)\n",
    "\n",
    "match point:\n",
    "    case (0, 0):\n",
    "        print(\"Origin\")\n",
    "    case (0, y):\n",
    "        print(f\"Y= {y}\")\n",
    "    case (x, 0):\n",
    "        print(f\"X= {x}\")\n",
    "    case _:\n",
    "        raise ValueError(\"Not a point\")\n",
    "\n",
    "class Point:\n",
    "    __match_args__ = (\"x\", \"y\")\n",
    "\n",
    "    def __init__(self, x, y):\n",
    "        self.x = x\n",
    "        self.y = y\n",
    "\n",
    "\n",
    "def where_is(point):\n",
    "    match point:\n",
    "        case Point(x, y) if x == y:\n",
    "            print(f\"Y = X at {x}\")\n",
    "        case (Point(x, y) as p2):\n",
    "            print(\"cheguei aqui\", p2)\n",
    "\n",
    "\n",
    "where_is(Point(0, 1))\n",
    "\n",
    "from enum import Enum\n",
    "\n",
    "\n",
    "class Color(Enum):\n",
    "    RED = 'red'\n",
    "    GREEN = 'green'\n",
    "    BLUE = 'blue'\n",
    "\n",
    "\n",
    "color = Color(input(\"escolha: \"))\n",
    "match color:\n",
    "    case Color.RED:\n",
    "        print(\"I see red!\")\n",
    "    case Color.GREEN:\n",
    "        print(\"Grass is green\")\n",
    "    case Color.BLUE:\n",
    "        print(\"I'm feeling the blues :(\")"
   ]
  },
  {
   "cell_type": "markdown",
   "metadata": {},
   "source": [
    "#### DEFININDO FUNÇÕES"
   ]
  },
  {
   "cell_type": "code",
   "execution_count": null,
   "metadata": {},
   "outputs": [],
   "source": [
    "def fibonacci(n):\n",
    "    a, b = 0, 1\n",
    "    while a < n:\n",
    "        print(a, end=\" \")\n",
    "        a, b = b, a+b\n",
    "    print()\n",
    "\n",
    "\n",
    "f = fibonacci\n",
    "\n",
    "f(2000)\n",
    "\n",
    "def fib(n):\n",
    "    result = []\n",
    "    a, b = 0, 1\n",
    "    while a < n:\n",
    "        result.append(a)\n",
    "        a, b = b, a+b\n",
    "    return result\n",
    "\n",
    "\n",
    "print(fib(100))\n",
    "\n",
    "def ask_ok(prompt, retries=4, reminder='Please try again!'):\n",
    "    while True:\n",
    "        ok = input(prompt)\n",
    "        if ok in ('y', 'ye', 'yes'):\n",
    "            return True\n",
    "        if ok in ('n', 'no', 'nop', 'nope'):\n",
    "            return False\n",
    "        retries = retries - 1\n",
    "\n",
    "        if retries < 0:\n",
    "            raise ValueError('Invalid user response')\n",
    "        print(reminder)\n",
    "\n",
    "\n",
    "ask_ok(\"no\")\n",
    "\n",
    "def f(a, L=None):\n",
    "    if L is None:\n",
    "        L = []\n",
    "    L.append(a)\n",
    "    return L\n",
    "\n",
    "\n",
    "print(f(1))\n",
    "print(f(2))\n",
    "print(f(3))"
   ]
  },
  {
   "cell_type": "code",
   "execution_count": 6,
   "metadata": {},
   "outputs": [
    {
     "name": "stdout",
     "output_type": "stream",
     "text": [
      "meu nome é Diogo Mello e tenha 18 de idade, nasci no ano 2002\n"
     ]
    }
   ],
   "source": [
    "def Pessoa(nome, sobrenome, *args):\n",
    "    print(f\"meu nome é {nome} {sobrenome} e tenha {args[0]} de idade, nasci no ano {args[1]}\")\n",
    "    \n",
    "    \n",
    "Pessoa(\"Diogo\", \"Mello\", 18, 2002)"
   ]
  },
  {
   "cell_type": "code",
   "execution_count": 9,
   "metadata": {},
   "outputs": [
    {
     "data": {
      "text/plain": [
       "[3, 4, 5, 6, 7]"
      ]
     },
     "execution_count": 9,
     "metadata": {},
     "output_type": "execute_result"
    }
   ],
   "source": [
    "list(range(3, 6))\n",
    "\n",
    "args = [3, 8]\n",
    "list(range(*args))"
   ]
  },
  {
   "cell_type": "code",
   "execution_count": 13,
   "metadata": {},
   "outputs": [
    {
     "name": "stdout",
     "output_type": "stream",
     "text": [
      "-- This parrot wouldn't voom if you put {'voltage': 'four million', 'state': \"bleedin' demised\", 'action': 'VOOM'} volts through it. E's a stiff !\n"
     ]
    }
   ],
   "source": [
    "def parrot(voltage, state='a stiff', action='voom'):\n",
    "    print(\"-- This parrot wouldn't\", action, end=' ')\n",
    "    print(\"if you put\", voltage, \"volts through it.\", end=' ')\n",
    "    print(\"E's\", state, \"!\")\n",
    "\n",
    "d = {\"voltage\": \"four million\", \"state\": \"bleedin' demised\", \"action\": \"VOOM\"}\n",
    "parrot(d)"
   ]
  },
  {
   "cell_type": "code",
   "execution_count": 15,
   "metadata": {},
   "outputs": [
    {
     "name": "stdout",
     "output_type": "stream",
     "text": [
      "42 43\n"
     ]
    }
   ],
   "source": [
    "def make_incrementor(n):\n",
    "    return lambda x: x + n\n",
    "\n",
    "\n",
    "f = make_incrementor(42)\n",
    "print(f(0), f(1))"
   ]
  }
 ],
 "metadata": {
  "kernelspec": {
   "display_name": "Python 3",
   "language": "python",
   "name": "python3"
  },
  "language_info": {
   "codemirror_mode": {
    "name": "ipython",
    "version": 3
   },
   "file_extension": ".py",
   "mimetype": "text/x-python",
   "name": "python",
   "nbconvert_exporter": "python",
   "pygments_lexer": "ipython3",
   "version": "3.11.4"
  },
  "orig_nbformat": 4
 },
 "nbformat": 4,
 "nbformat_minor": 2
}
