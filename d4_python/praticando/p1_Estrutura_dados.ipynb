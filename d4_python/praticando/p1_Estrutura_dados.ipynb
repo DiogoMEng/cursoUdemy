{
 "cells": [
  {
   "cell_type": "markdown",
   "metadata": {},
   "source": [
    "# Estrutura de dados"
   ]
  },
  {
   "cell_type": "markdown",
   "metadata": {},
   "source": [
    "### Comprehension"
   ]
  },
  {
   "cell_type": "code",
   "execution_count": 3,
   "metadata": {},
   "outputs": [
    {
     "data": {
      "text/plain": [
       "[22, 24, 26, 28, 30, 32, 34, 36, 38, 40, 42, 44, 46, 48]"
      ]
     },
     "execution_count": 3,
     "metadata": {},
     "output_type": "execute_result"
    }
   ],
   "source": [
    "[(x, y) for x in [1, 2, 3] for y in [3, 2, 1] if x != y]\n",
    "\n",
    "[x for x in range(0, 50, 2) if x > 20]"
   ]
  },
  {
   "cell_type": "code",
   "execution_count": 4,
   "metadata": {},
   "outputs": [
    {
     "data": {
      "text/plain": [
       "['3.1', '3.14', '3.142', '3.1416', '3.14159']"
      ]
     },
     "execution_count": 4,
     "metadata": {},
     "output_type": "execute_result"
    }
   ],
   "source": [
    "from math import pi\n",
    "\n",
    "[str(round(pi, i)) for i in range(1, 6)]\n",
    "\n",
    "# round - recebe número qualquer e arredonda"
   ]
  },
  {
   "cell_type": "code",
   "execution_count": 18,
   "metadata": {},
   "outputs": [
    {
     "name": "stdout",
     "output_type": "stream",
     "text": [
      "[[1, 2, 3, 4, 5], [6, 7, 8, 9, 10], [11, 12, 13, 14, 15]]\n"
     ]
    },
    {
     "data": {
      "text/plain": [
       "[(1, 6, 11), (2, 7, 12), (3, 8, 13), (4, 9, 14), (5, 10, 15)]"
      ]
     },
     "execution_count": 18,
     "metadata": {},
     "output_type": "execute_result"
    }
   ],
   "source": [
    "matriz = [\n",
    "    [1, 2, 3, 4, 5],\n",
    "    [6, 7, 8, 9, 10],\n",
    "    [11, 12, 13, 14, 15]\n",
    "]\n",
    "\n",
    "print(matriz)\n",
    "\n",
    "[[row[i] for row in matriz] for i in range(5)]\n",
    "\n",
    "list(zip(*matriz))"
   ]
  },
  {
   "cell_type": "markdown",
   "metadata": {},
   "source": [
    "### Instrução Del"
   ]
  },
  {
   "cell_type": "code",
   "execution_count": 25,
   "metadata": {},
   "outputs": [
    {
     "name": "stdout",
     "output_type": "stream",
     "text": [
      "[1, 7, 8, 9, 10]\n"
     ]
    }
   ],
   "source": [
    "a = [1, 2, 3, 4, 5, 6, 7, 8, 9, 10]\n",
    "\n",
    "del a[1:6]\n",
    "\n",
    "print(a)"
   ]
  },
  {
   "cell_type": "markdown",
   "metadata": {},
   "source": [
    "### Tuplas e sequências"
   ]
  },
  {
   "cell_type": "code",
   "execution_count": 27,
   "metadata": {},
   "outputs": [
    {
     "name": "stdout",
     "output_type": "stream",
     "text": [
      "(1, 2, 3, 4, 'testando')\n",
      "((1, 2, 3, 4, 'testando'), (5, 6, 7, 8, 9))\n"
     ]
    }
   ],
   "source": [
    "trupla = 1, 2, 3, 4, 'testando'\n",
    "\n",
    "print(trupla)\n",
    "\n",
    "# concatenando truplas\n",
    "trupla = trupla, (5, 6, 7, 8, 9)\n",
    "\n",
    "print(trupla)"
   ]
  },
  {
   "cell_type": "code",
   "execution_count": 32,
   "metadata": {},
   "outputs": [
    {
     "name": "stdout",
     "output_type": "stream",
     "text": [
      "()\n",
      "('só um valor',)\n"
     ]
    }
   ],
   "source": [
    "tr = ()\n",
    "\n",
    "print(tr)\n",
    "\n",
    "tr = (\"só um valor\", )\n",
    "\n",
    "print(tr)"
   ]
  },
  {
   "cell_type": "code",
   "execution_count": 2,
   "metadata": {},
   "outputs": [
    {
     "name": "stdout",
     "output_type": "stream",
     "text": [
      "('Diogo', 'Tatiana', 'Geovana', 'Cristian')\n",
      "Diogo Tatiana Geovana Cristian "
     ]
    }
   ],
   "source": [
    "num = \"Diogo\", \"Tatiana\", \"Geovana\", \"Cristian\"\n",
    "\n",
    "print(num)\n",
    "\n",
    "d, t, g, c = num\n",
    "\n",
    "print(d, t, g, c, end=\" \")"
   ]
  },
  {
   "cell_type": "markdown",
   "metadata": {},
   "source": [
    "### Conjuntos"
   ]
  },
  {
   "cell_type": "code",
   "execution_count": 7,
   "metadata": {},
   "outputs": [
    {
     "name": "stdout",
     "output_type": "stream",
     "text": [
      "{'Tatiana', 'Cristian', 'Stephany', 'Diogo'}\n",
      "{'@', 'l', 'm', '1', 'i', 'g', 'o', '.', '9', 'n', 'a', 'c', 'd', 'e'}\n"
     ]
    }
   ],
   "source": [
    "pessoa = {\"Diogo\", \"Stephany\", \"Tatiana\", \"Cristian\"}\n",
    "\n",
    "print(pessoa)\n",
    "\n",
    "documentos = set('diogoeng19@gmail.com')\n",
    "print(documentos)"
   ]
  },
  {
   "cell_type": "code",
   "execution_count": 14,
   "metadata": {},
   "outputs": [
    {
     "name": "stdout",
     "output_type": "stream",
     "text": [
      "{'i', 'd', 'g', 'o'} {'t', 'i', 'n', 'a'}\n",
      "{'g', 'd', 'o'}\n",
      "{'t', 'i', 'g', 'o', 'n', 'a', 'd'}\n",
      "{'i'}\n",
      "{'t', 'g', 'o', 'n', 'a', 'd'}\n"
     ]
    }
   ],
   "source": [
    "diogo = set(\"diogo\")\n",
    "tatiana = set(\"tatiana\")\n",
    "\n",
    "print(diogo, tatiana, end=\"\\n\")\n",
    "\n",
    "print(diogo - tatiana) # oque tem no primeiro que não tem no segundo\n",
    "print(diogo | tatiana) # tudo que tem em ambos\n",
    "print(diogo & tatiana) # oque tem em ambos\n",
    "print(diogo ^ tatiana) # tudo que tem de diferente em ambos"
   ]
  },
  {
   "cell_type": "markdown",
   "metadata": {},
   "source": [
    "### Dicionário"
   ]
  },
  {
   "cell_type": "code",
   "execution_count": 18,
   "metadata": {},
   "outputs": [
    {
     "name": "stdout",
     "output_type": "stream",
     "text": [
      "{'telefone': 91985805873, 'dataNascimento': '18/02/2002', 'nomeCompleto': 'Diogo Dias Mello'}\n"
     ]
    },
    {
     "data": {
      "text/plain": [
       "True"
      ]
     },
     "execution_count": 18,
     "metadata": {},
     "output_type": "execute_result"
    }
   ],
   "source": [
    "dados = {'telefone': 91985805873, 'dataNascimento': '18/02/2002'}\n",
    "dados['nomeCompleto'] = 'Diogo Dias Mello'\n",
    "\n",
    "print(dados)\n",
    "\n",
    "list(dados) # lista as chaves\n",
    "\n",
    "sorted(dados) # organiza\n",
    "\n",
    "'dataNascimento' in dados"
   ]
  },
  {
   "cell_type": "code",
   "execution_count": 25,
   "metadata": {},
   "outputs": [
    {
     "data": {
      "text/plain": [
       "{'teste': 'teste', 'teste1': 121}"
      ]
     },
     "execution_count": 25,
     "metadata": {},
     "output_type": "execute_result"
    }
   ],
   "source": [
    "{x: x**2 for x in (1, 2, 3)}\n",
    "\n",
    "dict(teste= 'teste', teste1= 121)"
   ]
  }
 ],
 "metadata": {
  "kernelspec": {
   "display_name": "Python 3",
   "language": "python",
   "name": "python3"
  },
  "language_info": {
   "codemirror_mode": {
    "name": "ipython",
    "version": 3
   },
   "file_extension": ".py",
   "mimetype": "text/x-python",
   "name": "python",
   "nbconvert_exporter": "python",
   "pygments_lexer": "ipython3",
   "version": "3.11.4"
  },
  "orig_nbformat": 4
 },
 "nbformat": 4,
 "nbformat_minor": 2
}
